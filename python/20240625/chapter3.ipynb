{
 "cells": [
  {
   "cell_type": "code",
   "execution_count": 3,
   "metadata": {},
   "outputs": [
    {
     "data": {
      "text/plain": [
       "'d:\\\\python\\\\test1'"
      ]
     },
     "execution_count": 3,
     "metadata": {},
     "output_type": "execute_result"
    }
   ],
   "source": [
    "# 현재 위치 설정하기\n",
    "import os\n",
    "\n",
    "# 현재 디렉토리 위치 확인하기\n",
    "os.getcwd()\n",
    "\n",
    "# 디렉토리 폴더 이동하기\n",
    "os.chdir(\"d:\\\\python\\\\test1\")\n",
    "\n",
    "os.getcwd()"
   ]
  },
  {
   "cell_type": "code",
   "execution_count": 8,
   "metadata": {},
   "outputs": [
    {
     "name": "stdout",
     "output_type": "stream",
     "text": [
      "<class 'list'>\n",
      "['a.py', 'chapter3.ipynb']\n"
     ]
    }
   ],
   "source": [
    "# 디렉토리 폴더 안의 파일 확인하기\n",
    "os.listdir()\n",
    "\n",
    "os.chdir(\"d:\\\\python\\\\20240625\")\n",
    "\n",
    "os.listdir()\n",
    "\n",
    "folderFile = os.listdir()\n",
    "print(type(folderFile))\n",
    "print(folderFile)"
   ]
  },
  {
   "cell_type": "code",
   "execution_count": 1,
   "metadata": {},
   "outputs": [
    {
     "data": {
      "text/plain": [
       "3"
      ]
     },
     "execution_count": 1,
     "metadata": {},
     "output_type": "execute_result"
    }
   ],
   "source": [
    "# 파일 열고 닫기\n",
    "\n",
    "# 파일 열기 -> open('파일 이름', 파일 열기모드(r,w,a))\n",
    "# 파일 열고 내용쓰기 -> open('파일 이름', 파일 열기모드(r,w,a)).write(내용)\n",
    "# 파일닫기 -> close()\n",
    "\n",
    "open('a.txt','w').write('abc')"
   ]
  },
  {
   "cell_type": "code",
   "execution_count": 43,
   "metadata": {},
   "outputs": [],
   "source": [
    "f = open('b.txt', 'w')\n",
    "f.close()\n",
    "f = open('b.txt', 'w')\n",
    "f.write('나는 오늘 학교에 갔다.')\n",
    "f.close()\n",
    "f = open('b.txt','r')\n",
    "f.read()\n",
    "f.seek(0)\n",
    "f.read()\n",
    "f.close()\n",
    "\n",
    "# f = open('c.txt','r') 없는 파일을 읽을려고 열었기에 error"
   ]
  },
  {
   "cell_type": "code",
   "execution_count": 2,
   "metadata": {},
   "outputs": [
    {
     "name": "stdout",
     "output_type": "stream",
     "text": [
      "나는 오늘 학교에 갔다.\n",
      "나는 오늘\n"
     ]
    }
   ],
   "source": [
    "f = open('b.txt','r')\n",
    "diary = f.read()\n",
    "print(diary)\n",
    "print(diary[:5])\n",
    "f.close()"
   ]
  },
  {
   "cell_type": "code",
   "execution_count": 3,
   "metadata": {},
   "outputs": [],
   "source": [
    "# with문을 사용하여 객체를 만들지 않고 파일 입출력하기\n",
    "# with open(파일 이름, 파일 열기 모드) as f:\n",
    "#     f에 수행할 명령\n",
    "with open('test.txt','w') as f:\n",
    "    f.write('오늘 나는 학교에 갔습니다.')"
   ]
  },
  {
   "cell_type": "code",
   "execution_count": 5,
   "metadata": {},
   "outputs": [
    {
     "ename": "FileNotFoundError",
     "evalue": "[Errno 2] No such file or directory: '한글파일.txt'",
     "output_type": "error",
     "traceback": [
      "\u001b[1;31m---------------------------------------------------------------------------\u001b[0m",
      "\u001b[1;31mFileNotFoundError\u001b[0m                         Traceback (most recent call last)",
      "Cell \u001b[1;32mIn[5], line 2\u001b[0m\n\u001b[0;32m      1\u001b[0m \u001b[38;5;66;03m# 한글 파일 오류 해결하기\u001b[39;00m\n\u001b[1;32m----> 2\u001b[0m f \u001b[38;5;241m=\u001b[39m \u001b[38;5;28mopen\u001b[39m(\u001b[38;5;124m'\u001b[39m\u001b[38;5;124m한글파일.txt\u001b[39m\u001b[38;5;124m'\u001b[39m,\u001b[38;5;124m'\u001b[39m\u001b[38;5;124mr\u001b[39m\u001b[38;5;124m'\u001b[39m, encoding\u001b[38;5;241m=\u001b[39m\u001b[38;5;124m'\u001b[39m\u001b[38;5;124mutf8\u001b[39m\u001b[38;5;124m'\u001b[39m) \u001b[38;5;66;03m# 뒤의 encoding='utf8'을 적어준다\u001b[39;00m\n\u001b[0;32m      3\u001b[0m script101 \u001b[38;5;241m=\u001b[39m f\u001b[38;5;241m.\u001b[39mread()\n",
      "File \u001b[1;32mc:\\Users\\human-09\\anaconda3\\Lib\\site-packages\\IPython\\core\\interactiveshell.py:310\u001b[0m, in \u001b[0;36m_modified_open\u001b[1;34m(file, *args, **kwargs)\u001b[0m\n\u001b[0;32m    303\u001b[0m \u001b[38;5;28;01mif\u001b[39;00m file \u001b[38;5;129;01min\u001b[39;00m {\u001b[38;5;241m0\u001b[39m, \u001b[38;5;241m1\u001b[39m, \u001b[38;5;241m2\u001b[39m}:\n\u001b[0;32m    304\u001b[0m     \u001b[38;5;28;01mraise\u001b[39;00m \u001b[38;5;167;01mValueError\u001b[39;00m(\n\u001b[0;32m    305\u001b[0m         \u001b[38;5;124mf\u001b[39m\u001b[38;5;124m\"\u001b[39m\u001b[38;5;124mIPython won\u001b[39m\u001b[38;5;124m'\u001b[39m\u001b[38;5;124mt let you open fd=\u001b[39m\u001b[38;5;132;01m{\u001b[39;00mfile\u001b[38;5;132;01m}\u001b[39;00m\u001b[38;5;124m by default \u001b[39m\u001b[38;5;124m\"\u001b[39m\n\u001b[0;32m    306\u001b[0m         \u001b[38;5;124m\"\u001b[39m\u001b[38;5;124mas it is likely to crash IPython. If you know what you are doing, \u001b[39m\u001b[38;5;124m\"\u001b[39m\n\u001b[0;32m    307\u001b[0m         \u001b[38;5;124m\"\u001b[39m\u001b[38;5;124myou can use builtins\u001b[39m\u001b[38;5;124m'\u001b[39m\u001b[38;5;124m open.\u001b[39m\u001b[38;5;124m\"\u001b[39m\n\u001b[0;32m    308\u001b[0m     )\n\u001b[1;32m--> 310\u001b[0m \u001b[38;5;28;01mreturn\u001b[39;00m io_open(file, \u001b[38;5;241m*\u001b[39margs, \u001b[38;5;241m*\u001b[39m\u001b[38;5;241m*\u001b[39mkwargs)\n",
      "\u001b[1;31mFileNotFoundError\u001b[0m: [Errno 2] No such file or directory: '한글파일.txt'"
     ]
    }
   ],
   "source": [
    "# 한글 파일 오류 해결하기\n",
    "f = open('한글파일.txt','r', encoding='utf8') # 뒤의 encoding='utf8'을 적어준다\n",
    "script101 = f.read()"
   ]
  },
  {
   "cell_type": "code",
   "execution_count": 6,
   "metadata": {},
   "outputs": [
    {
     "data": {
      "text/plain": [
       "['이동민, 2019', '최재영, 2019', 'Lion, 2018']"
      ]
     },
     "execution_count": 6,
     "metadata": {},
     "output_type": "execute_result"
    }
   ],
   "source": [
    "# ['이동민,2019', '최재영,2019', 'Lion,2018']\n",
    "import re\n",
    "# 정규표현식 모듈 re를 호출\n",
    "example = '이동민 교수님은 다음과 같이 설명했습니다(이동민, 2019). 그런데 다른 교수님은 이 문제에 대해서 다른 견해를 가지고 있었습니다(최재영, 2019). 또 다른 견해도 있었습니다(Lion, 2018)'\n",
    "\n",
    "result = re.findall(r'\\((.+?)\\)', example)\n",
    "result"
   ]
  },
  {
   "cell_type": "code",
   "execution_count": 10,
   "metadata": {},
   "outputs": [
    {
     "name": "stdout",
     "output_type": "stream",
     "text": [
      "<re.Match object; span=(0, 4), match='life'>\n",
      "None\n"
     ]
    }
   ],
   "source": [
    "# 문자열 안에서 패턴 찾기 -> re.match(패턴, 문자열)\n",
    "pattern = 'life'\n",
    "script = 'life'\n",
    "print(re.match(pattern, script)) # script안에서 pattern을 찾기\n",
    "re.match(pattern, script).group()   # group()메소드를 통해서 일치하는 내용을 반환\n",
    "\n",
    "script = 'animal'\n",
    "print(re.match(pattern, script))    # animal에서 life를 찾을 수 없을 경우 None을 반환"
   ]
  },
  {
   "cell_type": "code",
   "execution_count": 11,
   "metadata": {},
   "outputs": [],
   "source": [
    "def refinder(pattern, script):\n",
    "    if re.match(pattern, script):\n",
    "        print('Match!')\n",
    "    else:\n",
    "        print('Not a match!')"
   ]
  },
  {
   "cell_type": "code",
   "execution_count": 12,
   "metadata": {},
   "outputs": [
    {
     "name": "stdout",
     "output_type": "stream",
     "text": [
      "Match!\n"
     ]
    }
   ],
   "source": [
    "pattern = 'Life'    # 대문자\n",
    "script = 'Life is so cool'\n",
    "refinder(pattern, script)   # Match"
   ]
  },
  {
   "cell_type": "code",
   "execution_count": 13,
   "metadata": {},
   "outputs": [
    {
     "name": "stdout",
     "output_type": "stream",
     "text": [
      "Not a match!\n"
     ]
    }
   ],
   "source": [
    "pattern = 'life'    # 소문자\n",
    "script = 'Life is so cool'\n",
    "refinder(pattern, script)   # Not Match"
   ]
  },
  {
   "cell_type": "code",
   "execution_count": 15,
   "metadata": {},
   "outputs": [
    {
     "name": "stdout",
     "output_type": "stream",
     "text": [
      "Not a match!\n"
     ]
    },
    {
     "data": {
      "text/plain": [
       "'is'"
      ]
     },
     "execution_count": 15,
     "metadata": {},
     "output_type": "execute_result"
    }
   ],
   "source": [
    "pattern = 'is'    # 소문자\n",
    "script = 'Life is so cool'\n",
    "refinder(pattern, script)   # Not Match -> 문자열 시작부터 매칭되는 경우에 한함\n",
    "re.search(pattern, script).group()  # 문자열 전체에서 패턴을 찾기"
   ]
  },
  {
   "cell_type": "code",
   "execution_count": 16,
   "metadata": {},
   "outputs": [
    {
     "data": {
      "text/plain": [
       "'cool'"
      ]
     },
     "execution_count": 16,
     "metadata": {},
     "output_type": "execute_result"
    }
   ],
   "source": [
    "pattern = 'cool'    # 소문자\n",
    "script = 'Life is so cool'\n",
    "re.search(pattern, script).group()  # 문자열 전체에서 패턴을 찾기"
   ]
  },
  {
   "cell_type": "code",
   "execution_count": 20,
   "metadata": {},
   "outputs": [
    {
     "data": {
      "text/plain": [
       "'My number is 511223-1?????? and your is 521012-2??????'"
      ]
     },
     "execution_count": 20,
     "metadata": {},
     "output_type": "execute_result"
    }
   ],
   "source": [
    "# 패턴을 모두 찾아 리스트로 반환 -> findall\n",
    "number = 'My number is 511223-1****** and your is 521012-2******'\n",
    "re.findall(r'\\d{6}',number)\n",
    "\n",
    "number.replace('*', '?')"
   ]
  },
  {
   "cell_type": "code",
   "execution_count": 25,
   "metadata": {},
   "outputs": [
    {
     "name": "stdout",
     "output_type": "stream",
     "text": [
      "['91년에 태어났습니다. 97년에는 IMF가 있었습니다. 지금은 2020년']\n",
      "['91년', '97년', '2020년']\n",
      "['91년', '97년', '2020년']\n"
     ]
    }
   ],
   "source": [
    "# 정규표현식에서의 마침표(.)와 물음표(?)는 탐욕을 뜻함\n",
    "# 마침표는 모든 문자를 뜻함(ex(0-9a-zA-Zㄱ-ㅎ))\n",
    "example1 = '저는 91년에 태어났습니다. 97년에는 IMF가 있었습니다. 지금은 2020년입니다.'\n",
    "\n",
    "print(re.findall(r'\\d.+년', example1)) # (\\d)는 숫자, (.)은 아무 문자, (+)반복\n",
    "print(re.findall(r'\\d.+?년', example1)) # (\\d)는 숫자, (.)은 아무 문자, (?)1번 혹은 0번 문자 문자(년), (+)반복\n",
    "print(re.findall(r'\\d+년', example1)) # (\\d)는 숫자, (+)반복"
   ]
  },
  {
   "cell_type": "code",
   "execution_count": 31,
   "metadata": {},
   "outputs": [
    {
     "name": "stdout",
     "output_type": "stream",
     "text": [
      "['I havbe dog, really', ' Iam not telling', ' What a pretty', ' I love this dog', '']\n",
      "['I havbe dog, really', ' Iam not telling', ' What a pretty! I love this dog', '']\n",
      "['a', '3']\n",
      "['b', '4']\n",
      "['c', '5']\n"
     ]
    }
   ],
   "source": [
    "# 문장 나누는 패턴 만들기 -> re.split(패턴 문자열)\n",
    "sentence = 'I havbe dog, really. Iam not telling. What a pretty! I love this dog.'\n",
    "print(re.split(r'[.?!]', sentence))\n",
    "print(re.split(r'[.]', sentence))\n",
    "\n",
    "data = 'a:3; b:4; c:5'\n",
    "for i in re.split(r'; ', data):\n",
    "    print(re.split(r':',i))"
   ]
  },
  {
   "cell_type": "code",
   "execution_count": 34,
   "metadata": {},
   "outputs": [
    {
     "name": "stdout",
     "output_type": "stream",
     "text": [
      "I havbe cat, really. Iam not telling. What a pretty! I love this cat.\n",
      "I am home now. I am with my cat.\n"
     ]
    }
   ],
   "source": [
    "# 문자열 대치하기(substitutue)\n",
    "sentence = 'I havbe dog, really. Iam not telling. What a pretty! I love this dog.'\n",
    "print(re.sub('dog', 'cat', sentence))\n",
    "\n",
    "words = 'I am home now. \\n\\n\\nI am with my cat.\\n\\n'\n",
    "print(re.sub(r'\\n', '', words))"
   ]
  },
  {
   "cell_type": "code",
   "execution_count": 35,
   "metadata": {},
   "outputs": [
    {
     "data": {
      "text/plain": [
       "['lovely', 'really']"
      ]
     },
     "execution_count": 35,
     "metadata": {},
     "output_type": "execute_result"
    }
   ],
   "source": [
    "#문제1: 아래 문장에서 'ly'로 끝나는 단어만 추출하기\n",
    "sentence = 'I have a lovely dog, really, I am not telling a lie'\n",
    "re.findall(r'\\w+ly', sentence)"
   ]
  },
  {
   "cell_type": "code",
   "execution_count": 59,
   "metadata": {},
   "outputs": [
    {
     "name": "stdout",
     "output_type": "stream",
     "text": [
      "apple\n",
      "arise\n",
      "above\n",
      "['greatking@naver.com', 'travel@daum.net', 'apple@gmail.com', 'life@abc.co.kr']\n"
     ]
    }
   ],
   "source": [
    "words = ['apple', 'cat', 'brave', 'drama', 'arise', 'blow', 'coat', 'above']\n",
    "for i in words:\n",
    "    m = re.match(r'a\\D+', i)\n",
    "    if m:\n",
    "        print(m.group())\n",
    "\n",
    "a = '제 이메일 주소는 greatking@naver.com입니다. 오늘 저는 travel@daum.net 라는 주소로 메일을 보내려고 합니다. 저는 apple@gmail.com, life@abc.co.kr 라는 메일도 사용하고 있습니다.'\n",
    "b = re.findall(r'[a-z]+@[a-z.]+', a)\n",
    "print(b)\n",
    "\n"
   ]
  }
 ],
 "metadata": {
  "kernelspec": {
   "display_name": "base",
   "language": "python",
   "name": "python3"
  },
  "language_info": {
   "codemirror_mode": {
    "name": "ipython",
    "version": 3
   },
   "file_extension": ".py",
   "mimetype": "text/x-python",
   "name": "python",
   "nbconvert_exporter": "python",
   "pygments_lexer": "ipython3",
   "version": "3.11.7"
  }
 },
 "nbformat": 4,
 "nbformat_minor": 2
}
