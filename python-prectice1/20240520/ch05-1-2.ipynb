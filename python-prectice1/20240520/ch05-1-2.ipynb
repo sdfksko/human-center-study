{
 "cells": [
  {
   "cell_type": "code",
   "execution_count": null,
   "metadata": {},
   "outputs": [],
   "source": [
    "# 클래스의 상속"
   ]
  },
  {
   "cell_type": "code",
   "execution_count": 1,
   "metadata": {},
   "outputs": [],
   "source": [
    "class Fourcal():\n",
    "    # 메소드들의 생성 순서는 상관이 없다.\n",
    "    def __init__(self, first, second):      # 생성자\n",
    "        self.first = first\n",
    "        self.second = second\n",
    "\n",
    "    def setdata(self, first, second):\n",
    "        self.first = first # self는 javascript의 this와 비슷하다.\n",
    "        self.second = second\n",
    "\n",
    "    def add(self):\n",
    "        result = self.first + self.second\n",
    "        return result\n",
    "    \n",
    "    def sub(self):\n",
    "        result = self.first - self.second\n",
    "        return result\n",
    "    \n",
    "    def mul(self):\n",
    "        result = self.first * self.second\n",
    "        return result\n",
    "    \n",
    "    def div(self):\n",
    "        result = self.first / self.second\n",
    "        return result\n",
    "    \n",
    "class MoreFourcal(Fourcal): # class MoreFourcal에 class Fourcal의 값을 상속받는다.\n",
    "    pass"
   ]
  },
  {
   "cell_type": "code",
   "execution_count": 3,
   "metadata": {},
   "outputs": [
    {
     "name": "stdout",
     "output_type": "stream",
     "text": [
      "6\n",
      "8\n",
      "2\n",
      "2.0\n"
     ]
    }
   ],
   "source": [
    "a = MoreFourcal(4, 2)\n",
    "print(a.add()) # 4 + 2 = 6\n",
    "print(a.mul()) # 4 * 2 = 8\n",
    "print(a.sub()) # 4 - 2 = 2\n",
    "print(a.div()) # 4 / 2 = 2"
   ]
  },
  {
   "cell_type": "code",
   "execution_count": 5,
   "metadata": {},
   "outputs": [
    {
     "name": "stdout",
     "output_type": "stream",
     "text": [
      "16\n",
      "6\n"
     ]
    }
   ],
   "source": [
    "# 상속한 클래스의 함수 생성하기\n",
    "class MoreFourcal(Fourcal):\n",
    "    def pow(self):\n",
    "        result = self.first ** self.second\n",
    "        return result\n",
    "    \n",
    "a = MoreFourcal(4, 2)\n",
    "print(a.pow()) # 4 ** 2 = 16\n",
    "print(a.add()) # 4 + 2 = 6"
   ]
  },
  {
   "cell_type": "code",
   "execution_count": 8,
   "metadata": {},
   "outputs": [
    {
     "ename": "ZeroDivisionError",
     "evalue": "division by zero",
     "output_type": "error",
     "traceback": [
      "\u001b[1;31m---------------------------------------------------------------------------\u001b[0m",
      "\u001b[1;31mZeroDivisionError\u001b[0m                         Traceback (most recent call last)",
      "Cell \u001b[1;32mIn[8], line 3\u001b[0m\n\u001b[0;32m      1\u001b[0m \u001b[38;5;66;03m#  클래스 안의 메서드 오버라이딩\u001b[39;00m\n\u001b[0;32m      2\u001b[0m a \u001b[38;5;241m=\u001b[39m Fourcal(\u001b[38;5;241m4\u001b[39m, \u001b[38;5;241m0\u001b[39m)\n\u001b[1;32m----> 3\u001b[0m a\u001b[38;5;241m.\u001b[39mdiv()\n",
      "Cell \u001b[1;32mIn[1], line 24\u001b[0m, in \u001b[0;36mFourcal.div\u001b[1;34m(self)\u001b[0m\n\u001b[0;32m     23\u001b[0m \u001b[38;5;28;01mdef\u001b[39;00m \u001b[38;5;21mdiv\u001b[39m(\u001b[38;5;28mself\u001b[39m):\n\u001b[1;32m---> 24\u001b[0m     result \u001b[38;5;241m=\u001b[39m \u001b[38;5;28mself\u001b[39m\u001b[38;5;241m.\u001b[39mfirst \u001b[38;5;241m/\u001b[39m \u001b[38;5;28mself\u001b[39m\u001b[38;5;241m.\u001b[39msecond\n\u001b[0;32m     25\u001b[0m     \u001b[38;5;28;01mreturn\u001b[39;00m result\n",
      "\u001b[1;31mZeroDivisionError\u001b[0m: division by zero"
     ]
    }
   ],
   "source": [
    "#  클래스 안의 메서드 오버라이딩\n",
    "a = Fourcal(4, 0)\n",
    "a.div()\n"
   ]
  },
  {
   "cell_type": "code",
   "execution_count": 10,
   "metadata": {},
   "outputs": [
    {
     "data": {
      "text/plain": [
       "0"
      ]
     },
     "execution_count": 10,
     "metadata": {},
     "output_type": "execute_result"
    }
   ],
   "source": [
    "class SafeFourcal(Fourcal):\n",
    "    def div(self):      # Fourcal에 있는 div메소드가 없어지고 현재 만들어준 SafeFourcal div메서드가 덮어씌어짐\n",
    "        if self.second == 0:    # 나누는 값이 0인 경우 0을 리턴하도록 함\n",
    "            return 0\n",
    "        else:\n",
    "            return self.first / self.second\n",
    "        \n",
    "a = SafeFourcal(4, 0)\n",
    "a.div()s"
   ]
  },
  {
   "cell_type": "code",
   "execution_count": 16,
   "metadata": {},
   "outputs": [
    {
     "name": "stdout",
     "output_type": "stream",
     "text": [
      "김\n",
      "김\n",
      "김\n"
     ]
    }
   ],
   "source": [
    "# 클래스변수(속성(property))\n",
    "class Family:\n",
    "    lastname = \"김\"\n",
    "\n",
    "print(Family.lastname)\n",
    "\n",
    "a = Family()\n",
    "b = Family()\n",
    "\n",
    "print(a.lastname)\n",
    "print(b.lastname)"
   ]
  },
  {
   "cell_type": "code",
   "execution_count": 17,
   "metadata": {},
   "outputs": [
    {
     "name": "stdout",
     "output_type": "stream",
     "text": [
      "박\n",
      "박\n",
      "박\n"
     ]
    }
   ],
   "source": [
    "Family.lastname = \"박\" # 클래스 변수의 값을 변경\n",
    "print(Family.lastname)\n",
    "print(a.lastname)\n",
    "print(b.lastname)"
   ]
  },
  {
   "cell_type": "code",
   "execution_count": 18,
   "metadata": {},
   "outputs": [
    {
     "name": "stdout",
     "output_type": "stream",
     "text": [
      "최\n",
      "박\n"
     ]
    }
   ],
   "source": [
    "# 객체 변수\n",
    "a.lastname = \"최\" # 객체 변수의 값을 변경\n",
    "print(a.lastname)   # 객체 변수의 값을 출력\n",
    "print(Family.lastname)  # 클래스 변수의 값을 출력"
   ]
  },
  {
   "cell_type": "code",
   "execution_count": null,
   "metadata": {},
   "outputs": [],
   "source": []
  }
 ],
 "metadata": {
  "kernelspec": {
   "display_name": "base",
   "language": "python",
   "name": "python3"
  },
  "language_info": {
   "codemirror_mode": {
    "name": "ipython",
    "version": 3
   },
   "file_extension": ".py",
   "mimetype": "text/x-python",
   "name": "python",
   "nbconvert_exporter": "python",
   "pygments_lexer": "ipython3",
   "version": "3.11.7"
  }
 },
 "nbformat": 4,
 "nbformat_minor": 2
}
