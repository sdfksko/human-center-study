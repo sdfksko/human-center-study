{
 "cells": [
  {
   "cell_type": "code",
   "execution_count": 5,
   "metadata": {},
   "outputs": [
    {
     "name": "stdout",
     "output_type": "stream",
     "text": [
      "응애응얘\n"
     ]
    }
   ],
   "source": [
    "# 클래스는 큰틀이고 그 틀에서 탄생한 모양들이 객체이다.\n",
    "class Human:\n",
    "    pass\n",
    "areum = Human()\n",
    "class Human:\n",
    "    def __init__(self):\n",
    "        print(\"응애응얘\")\n",
    "areum = Human()\n",
    "\n",
    "\n"
   ]
  },
  {
   "cell_type": "code",
   "execution_count": 19,
   "metadata": {},
   "outputs": [
    {
     "name": "stdout",
     "output_type": "stream",
     "text": [
      "20\n"
     ]
    }
   ],
   "source": [
    "class Human:\n",
    "    def __init__(self, name, age, a):\n",
    "        self.name = name\n",
    "        self.age = age\n",
    "        self.a = a\n",
    "    def who(self):\n",
    "        print(\"이름 : {} 나이 : {} 성별 : {}\".format (self.name, self.age, self.a))\n",
    "    def setinfo(self):\n",
    "        self.name = name\n",
    "        self.age = age\n",
    "        self.a = a\n",
    "\n",
    "        \n",
    "areum = Human(\"아름이\", 20, \"여자\")\n",
    "print(areum.age)"
   ]
  },
  {
   "cell_type": "code",
   "execution_count": 10,
   "metadata": {},
   "outputs": [
    {
     "name": "stdout",
     "output_type": "stream",
     "text": [
      "아름이\n",
      "20\n",
      "여자\n"
     ]
    }
   ],
   "source": [
    "print(areum.name)\n",
    "print(areum.age)\n",
    "print(areum.a)"
   ]
  },
  {
   "cell_type": "code",
   "execution_count": 18,
   "metadata": {},
   "outputs": [
    {
     "name": "stdout",
     "output_type": "stream",
     "text": [
      "아름이 20 여자\n"
     ]
    }
   ],
   "source": [
    "areum.who()"
   ]
  },
  {
   "cell_type": "code",
   "execution_count": 21,
   "metadata": {},
   "outputs": [
    {
     "name": "stdout",
     "output_type": "stream",
     "text": [
      "Oh my god\n"
     ]
    }
   ],
   "source": [
    "class OMG : \n",
    "    def print() :\n",
    "        print(\"Oh my god\")\n",
    "\n",
    "myStock = (OMG)\n",
    "myStock.print()\n"
   ]
  },
  {
   "cell_type": "code",
   "execution_count": 66,
   "metadata": {},
   "outputs": [
    {
     "name": "stdout",
     "output_type": "stream",
     "text": [
      "삼성전자\n",
      "005930\n",
      "삼성전자\n",
      "005930\n",
      "삼성전자\n",
      "005930\n"
     ]
    }
   ],
   "source": [
    "class Stock:\n",
    "    def __init__(self, name, code):\n",
    "        self.name = name\n",
    "        self.code = code\n",
    "    def set_name(self, name):\n",
    "        self.name = name\n",
    "    def set_code(self, code):\n",
    "        self.code = code\n",
    "    def get_name(self):\n",
    "        return self.name\n",
    "    def get_code(self):\n",
    "        return self.code\n",
    "    \n",
    "\n",
    "삼성 = Stock(\"삼성전자\", \"005930\")\n",
    "print(삼성.name)\n",
    "print(삼성.code)\n",
    "\n",
    "a = Stock(None, None)\n",
    "a.set_name(\"삼성전자\")\n",
    "print(a.name)\n",
    "a.set_code(\"005930\")\n",
    "print(a.code)\n",
    "\n",
    "삼성 = Stock(\"삼성전자\",\"005930\")\n",
    "print(삼성.get_name())\n",
    "print(삼성.get_code())\n"
   ]
  },
  {
   "cell_type": "code",
   "execution_count": 93,
   "metadata": {},
   "outputs": [
    {
     "name": "stdout",
     "output_type": "stream",
     "text": [
      "12.75\n"
     ]
    }
   ],
   "source": [
    "class Stock:\n",
    "    def __init__(self, name, code, per, pbr, 배당수익률):\n",
    "        self.name = name\n",
    "        self.code = code\n",
    "        self.per = per\n",
    "        self.pbr = pbr\n",
    "        self.배당수익률 = 배당수익률\n",
    "    def set_name(self, name):\n",
    "        self.name = name\n",
    "    def set_code(self, code):\n",
    "        self.code = code\n",
    "    def get_name(self):\n",
    "        return self.name\n",
    "    def get_code(self):\n",
    "        return self.code\n",
    "    def set_per(self, per):\n",
    "        self.per = per\n",
    "    def set_pbr(self, pbr):\n",
    "        self.pbr = pbr\n",
    "    def set_dividend(self, 배당수익률):\n",
    "        self.배당수익률 = 배당수익률\n",
    "삼성 = Stock(\"삼성전자\", \"005930\", 15.79, 1.33, 2.83)\n",
    "삼성.set_per(12.75)\n",
    "print(삼성.per)"
   ]
  },
  {
   "cell_type": "code",
   "execution_count": 114,
   "metadata": {},
   "outputs": [
    {
     "name": "stdout",
     "output_type": "stream",
     "text": [
      "066570 317.34\n",
      "005930 15.79\n",
      "005380 8.7\n"
     ]
    }
   ],
   "source": [
    "삼성 = Stock(\"삼성전자\", \"005930\", 15.79, 1.33, 2.83)\n",
    "현대차 = Stock(\"현대차\", \"005380\", 8.70, 0.35, 4.27)\n",
    "LG전자 = Stock(\"LG전자\", \"066570\", 317.34, 0.69, 1.37)\n",
    "\n",
    "a = []\n",
    "a.append(LG전자)\n",
    "a.append(삼성)\n",
    "a.append(현대차)\n",
    "for i in a:\n",
    "    print(i.code, i.per)"
   ]
  },
  {
   "cell_type": "code",
   "execution_count": 131,
   "metadata": {},
   "outputs": [
    {
     "name": "stdout",
     "output_type": "stream",
     "text": [
      "바퀴수 2\n",
      "가격 100\n",
      "시마노\n"
     ]
    }
   ],
   "source": [
    "class 차:\n",
    "    def __init__(self, 바퀴, 가격):\n",
    "        self.바퀴 = 바퀴\n",
    "        self.가격 = 가격\n",
    "\n",
    "class 자전차(차):\n",
    "    pass\n",
    "\n",
    "class 자전차:\n",
    "    def __init__(self, 바퀴, 가격):\n",
    "        self.바퀴 = 바퀴\n",
    "        self.가격 = 가격\n",
    "\n",
    "class 자동차:\n",
    "    def __init__(self, 바퀴, 가격):\n",
    "        self.바퀴 = 바퀴\n",
    "        self.가격 = 가격\n",
    "    def 정보(self):\n",
    "        print(\"바퀴수\", self.바퀴)\n",
    "        print(\"가격\", self.가격)\n",
    "\n",
    "class 차:\n",
    "    def __init__(self, 바퀴, 가격, a):\n",
    "        self.바퀴 = 바퀴\n",
    "        self.가격 = 가격\n",
    "        self.a = a\n",
    "    def 정보(self):\n",
    "        print(\"바퀴수\", self.바퀴)\n",
    "        print(\"가격\", self.가격)\n",
    "        print(self.a)\n",
    "class 자전차(차):\n",
    "    pass\n",
    "bicycle = 자전차(2, 100, \"시마노\")\n",
    "bicycle.정보()"
   ]
  },
  {
   "cell_type": "code",
   "execution_count": 213,
   "metadata": {},
   "outputs": [
    {
     "name": "stdout",
     "output_type": "stream",
     "text": [
      "나비\n"
     ]
    }
   ],
   "source": [
    "import random\n",
    "class Account:\n",
    "    def __init__(self, name, money):\n",
    "        self.name = name\n",
    "        self.money = money\n",
    "        self.bank = \"SC은행\"\n",
    "        a = []\n",
    "        while 1 == 1:\n",
    "            if len(a) == 3 and len(b) == 2 and len(c) == 6:\n",
    "                break\n",
    "            else:\n",
    "                a = []\n",
    "                for i in range(1, 4):\n",
    "                    a.append(random.randint(0, 9))\n",
    "                    a = list(set(a))\n",
    "                b = []\n",
    "                for i in range(1, 3):\n",
    "                    b.append(random.randint(0, 9))\n",
    "                    b = list(set(b))\n",
    "                c = []\n",
    "                for i in range(1, 7):\n",
    "                    c.append(random.randint(0, 9))\n",
    "                    c = list(set(c))\n",
    "        d = a + b + c\n",
    "        \n",
    "        \n",
    "        \n",
    "\n",
    "kim = Account(\"나비\", 200)\n",
    "print(kim.name)\n",
    "\n",
    "\n",
    "\n",
    "\n",
    "               \n",
    "                \n",
    "\n",
    "\n",
    "\n",
    "\n",
    "\n",
    "    "
   ]
  },
  {
   "cell_type": "code",
   "execution_count": 225,
   "metadata": {},
   "outputs": [],
   "source": [
    "f = open(\"C:/Users/human-09/Desktop/'매수종목1.txt'\", 'w')\n",
    "f.write(\"005930\\n\")\n",
    "f.write(\"005380\\n\")\n",
    "f.write(\"035420\")\n",
    "f.close()"
   ]
  },
  {
   "cell_type": "code",
   "execution_count": 226,
   "metadata": {},
   "outputs": [],
   "source": [
    "f = open(\"C:/Users/human-09/Desktop/'매수종목2.txt'\", 'w')\n",
    "f.write(\"005930 삼성전자\\n\")\n",
    "f.write(\"005380 현대차\\n\")\n",
    "f.write(\"035420 NAAVER\")\n",
    "f.close()"
   ]
  },
  {
   "cell_type": "code",
   "execution_count": 227,
   "metadata": {},
   "outputs": [],
   "source": [
    "f = open(\"C:/Users/human-09/Desktop/'매수종목1.txt'\", 'r')\n",
    "f.read()\n",
    "f.close()"
   ]
  },
  {
   "cell_type": "code",
   "execution_count": 2,
   "metadata": {},
   "outputs": [
    {
     "name": "stdout",
     "output_type": "stream",
     "text": [
      "10.31\n",
      "0\n"
     ]
    }
   ],
   "source": [
    "per = [\"10.31\", \"\", \"8.00\"]\n",
    "try:\n",
    "    for i in per:\n",
    "        print(float(i))\n",
    "except ValueError:\n",
    "    print(0)"
   ]
  },
  {
   "cell_type": "code",
   "execution_count": 4,
   "metadata": {},
   "outputs": [
    {
     "name": "stdout",
     "output_type": "stream",
     "text": [
      "[10.31, '', 8.0]\n"
     ]
    },
    {
     "ename": "TypeError",
     "evalue": "float() argument must be a string or a real number, not 'list'",
     "output_type": "error",
     "traceback": [
      "\u001b[1;31m---------------------------------------------------------------------------\u001b[0m",
      "\u001b[1;31mTypeError\u001b[0m                                 Traceback (most recent call last)",
      "Cell \u001b[1;32mIn[4], line 4\u001b[0m\n\u001b[0;32m      2\u001b[0m \u001b[38;5;28;01mtry\u001b[39;00m:\n\u001b[0;32m      3\u001b[0m     \u001b[38;5;28;01mfor\u001b[39;00m i \u001b[38;5;129;01min\u001b[39;00m per:\n\u001b[1;32m----> 4\u001b[0m         \u001b[38;5;28mprint\u001b[39m(\u001b[38;5;28mfloat\u001b[39m(per))\n\u001b[0;32m      5\u001b[0m \u001b[38;5;28;01mfinally\u001b[39;00m:\n\u001b[0;32m      6\u001b[0m     per \u001b[38;5;241m=\u001b[39m [\u001b[38;5;241m10.31\u001b[39m, \u001b[38;5;124m\"\u001b[39m\u001b[38;5;124m\"\u001b[39m, \u001b[38;5;241m8.00\u001b[39m]\n",
      "\u001b[1;31mTypeError\u001b[0m: float() argument must be a string or a real number, not 'list'"
     ]
    }
   ],
   "source": [
    "per = [\"10.31\", \"\", \"8.00\"]\n",
    "try:\n",
    "    for i in per:\n",
    "        print(float(per))\n",
    "finally:\n",
    "    per = [10.31, \"\", 8.00]\n",
    "    a = per\n",
    "    print(a)\n"
   ]
  },
  {
   "cell_type": "code",
   "execution_count": 7,
   "metadata": {},
   "outputs": [
    {
     "name": "stdout",
     "output_type": "stream",
     "text": [
      "zero\n"
     ]
    }
   ],
   "source": [
    "try:\n",
    "    4 / 0\n",
    "except ZeroDivisionError:\n",
    "    print(\"zero\")\n"
   ]
  },
  {
   "cell_type": "code",
   "execution_count": 9,
   "metadata": {},
   "outputs": [
    {
     "name": "stdout",
     "output_type": "stream",
     "text": [
      "1\n",
      "2\n",
      "3\n",
      "list index out of range\n"
     ]
    }
   ],
   "source": [
    "data = [1, 2, 3]\n",
    "try:\n",
    "    for i in range(5):\n",
    "        print(data[i])\n",
    "except IndexError as e:\n",
    "    print(e)\n"
   ]
  },
  {
   "cell_type": "code",
   "execution_count": 11,
   "metadata": {},
   "outputs": [
    {
     "name": "stdout",
     "output_type": "stream",
     "text": [
      "one\n",
      "10.31\n",
      "\n",
      "8.00\n"
     ]
    }
   ],
   "source": [
    "per = [\"10.31\", \"\", \"8.00\"]\n",
    "\n",
    "try:\n",
    "    for i in per:\n",
    "        print(float(per))\n",
    "except TypeError:\n",
    "    print(\"one\")\n",
    "else:\n",
    "    for a in per:\n",
    "        print(a)\n",
    "finally:\n",
    "    for b in per:\n",
    "        print(b)\n"
   ]
  },
  {
   "cell_type": "code",
   "execution_count": 18,
   "metadata": {},
   "outputs": [
    {
     "name": "stdout",
     "output_type": "stream",
     "text": [
      "2024-05-21 10:33:40.601436\n",
      "<class 'datetime.datetime'>\n"
     ]
    }
   ],
   "source": [
    "import datetime\n",
    "now = datetime.datetime.now()\n",
    "print(now)\n",
    "print(type(now))"
   ]
  },
  {
   "cell_type": "code",
   "execution_count": 25,
   "metadata": {},
   "outputs": [
    {
     "name": "stdout",
     "output_type": "stream",
     "text": [
      "1716255976.8465238\n",
      "time.struct_time(tm_year=2024, tm_mon=5, tm_mday=21, tm_hour=10, tm_min=46, tm_sec=16, tm_wday=1, tm_yday=142, tm_isdst=0)\n",
      "Tue May 21 10:46:16 2024\n",
      "Tue May 21 10:46:16 2024\n"
     ]
    }
   ],
   "source": [
    "import time\n",
    "print(time.time())\n",
    "print(time.localtime(time.time()))\n",
    "print(time.asctime(time.localtime(time.time())))\n",
    "print(time.ctime())\n"
   ]
  },
  {
   "cell_type": "code",
   "execution_count": 27,
   "metadata": {},
   "outputs": [
    {
     "name": "stdout",
     "output_type": "stream",
     "text": [
      "0\n",
      "1\n",
      "2\n",
      "3\n",
      "4\n",
      "5\n",
      "6\n",
      "7\n",
      "8\n",
      "9\n"
     ]
    }
   ],
   "source": [
    "import time\n",
    "for i in range(10):\n",
    "    print(i)\n",
    "    time.sleep(1)"
   ]
  },
  {
   "cell_type": "code",
   "execution_count": 28,
   "metadata": {},
   "outputs": [
    {
     "data": {
      "text/plain": [
       "20"
      ]
     },
     "execution_count": 28,
     "metadata": {},
     "output_type": "execute_result"
    }
   ],
   "source": [
    "import math\n",
    "print(math.gcd(60, 100, 80))\n",
    "print(math.lcm(25,24))"
   ]
  },
  {
   "cell_type": "code",
   "execution_count": 33,
   "metadata": {},
   "outputs": [
    {
     "name": "stdout",
     "output_type": "stream",
     "text": [
      "0.8957916512827274\n",
      "36\n"
     ]
    }
   ],
   "source": [
    "import random\n",
    "print(random.random())\n",
    "print(random.randint(1, 100))"
   ]
  },
  {
   "cell_type": "markdown",
   "metadata": {},
   "source": []
  }
 ],
 "metadata": {
  "kernelspec": {
   "display_name": "base",
   "language": "python",
   "name": "python3"
  },
  "language_info": {
   "codemirror_mode": {
    "name": "ipython",
    "version": 3
   },
   "file_extension": ".py",
   "mimetype": "text/x-python",
   "name": "python",
   "nbconvert_exporter": "python",
   "pygments_lexer": "ipython3",
   "version": "3.11.7"
  }
 },
 "nbformat": 4,
 "nbformat_minor": 2
}
