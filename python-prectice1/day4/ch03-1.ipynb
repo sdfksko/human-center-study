{
 "cells": [
  {
   "cell_type": "code",
   "execution_count": 1,
   "metadata": {},
   "outputs": [
    {
     "name": "stdout",
     "output_type": "stream",
     "text": [
      "택시를 타고 가라\n"
     ]
    }
   ],
   "source": [
    "# if 제어문\n",
    "# ‘돈이 있으면 택시를 타고 가고, 돈이 없으면 걸어간다.’\n",
    "money = True\n",
    "if money:\n",
    "    print(\"택시를 타고 가라\")\n",
    "else:\n",
    "    print(\"걸어가라\")    "
   ]
  },
  {
   "cell_type": "code",
   "execution_count": 4,
   "metadata": {},
   "outputs": [
    {
     "name": "stdout",
     "output_type": "stream",
     "text": [
      "걸어가라\n",
      "걸어가면 다리가 아파\n"
     ]
    }
   ],
   "source": [
    "# if 문의 기본 구조\n",
    "money = False\n",
    "if money:\n",
    "    print(\"택시를 타고 가라\")\n",
    "    print(\"알겠어\")\n",
    "else:\n",
    "    print(\"걸어가라\")    \n",
    "    print(\"걸어가면 다리가 아파\")"
   ]
  },
  {
   "cell_type": "code",
   "execution_count": 8,
   "metadata": {},
   "outputs": [
    {
     "ename": "IndentationError",
     "evalue": "unexpected indent (1373865663.py, line 7)",
     "output_type": "error",
     "traceback": [
      "\u001b[1;36m  Cell \u001b[1;32mIn[8], line 7\u001b[1;36m\u001b[0m\n\u001b[1;33m    print(\"가라\")\u001b[0m\n\u001b[1;37m    ^\u001b[0m\n\u001b[1;31mIndentationError\u001b[0m\u001b[1;31m:\u001b[0m unexpected indent\n"
     ]
    }
   ],
   "source": [
    "# 들여쓰기 방법 알아보기\n",
    "# error 케이스 1\n",
    "money = True\n",
    "if money:\n",
    "    print(\"택시를\")\n",
    "print(\"타고\")\n",
    "    print(\"가라\")  # error"
   ]
  },
  {
   "cell_type": "code",
   "execution_count": 9,
   "metadata": {},
   "outputs": [
    {
     "name": "stdout",
     "output_type": "stream",
     "text": [
      "택시를\n",
      "타고\n",
      "가라\n"
     ]
    }
   ],
   "source": [
    "money = True\n",
    "if money:\n",
    "    print(\"택시를\")\n",
    "print(\"타고\")\n",
    "print(\"가라\")"
   ]
  },
  {
   "cell_type": "code",
   "execution_count": 10,
   "metadata": {},
   "outputs": [
    {
     "ename": "IndentationError",
     "evalue": "unexpected indent (2833510508.py, line 7)",
     "output_type": "error",
     "traceback": [
      "\u001b[1;36m  Cell \u001b[1;32mIn[10], line 7\u001b[1;36m\u001b[0m\n\u001b[1;33m    print(\"가라\")\u001b[0m\n\u001b[1;37m    ^\u001b[0m\n\u001b[1;31mIndentationError\u001b[0m\u001b[1;31m:\u001b[0m unexpected indent\n"
     ]
    }
   ],
   "source": [
    "# 들여쓰기 방법 알아보기\n",
    "# error 케이스 2\n",
    "money = True\n",
    "if money:\n",
    "    print(\"택시를\")\n",
    "    print(\"타고\")\n",
    "        print(\"가라\")   # error "
   ]
  },
  {
   "cell_type": "code",
   "execution_count": 12,
   "metadata": {},
   "outputs": [
    {
     "name": "stdout",
     "output_type": "stream",
     "text": [
      "True\n",
      "False\n",
      "True\n"
     ]
    }
   ],
   "source": [
    "x = 3\n",
    "y = 2\n",
    "\n",
    "print(x > y)    #True\n",
    "print(x == y)   #False\n",
    "print(x != y)   #True"
   ]
  },
  {
   "cell_type": "code",
   "execution_count": 14,
   "metadata": {},
   "outputs": [
    {
     "name": "stdout",
     "output_type": "stream",
     "text": [
      "택시를 타고 가라\n"
     ]
    }
   ],
   "source": [
    "# 만약 3000원 이상의 돈을 가지고 있으면 택시를 타고 가고, 그렇지 않으면 걸어가라.\n",
    "money = 4000\n",
    "if money >= 3000:\n",
    "    print(\"택시를 타고 가라\")\n",
    "else:\n",
    "    print(\"걸어가라\")"
   ]
  },
  {
   "cell_type": "code",
   "execution_count": 16,
   "metadata": {},
   "outputs": [
    {
     "name": "stdout",
     "output_type": "stream",
     "text": [
      "택시를 타고 가라\n"
     ]
    }
   ],
   "source": [
    "# 논리 연산자(and, or, not)\n",
    "money = 2000\n",
    "card = True\n",
    "if money >= 3000 or card:  # or 연산자는 피연산자 중 하나만 참이어도 참이다\n",
    "     print(\"택시를 타고 가라\")\n",
    "else:\n",
    "     print(\"걸어가라\")"
   ]
  },
  {
   "cell_type": "code",
   "execution_count": 17,
   "metadata": {},
   "outputs": [
    {
     "name": "stdout",
     "output_type": "stream",
     "text": [
      "True\n"
     ]
    }
   ],
   "source": [
    "# 문제1\n",
    "# 아래 코드의 결과를 예상하라\n",
    "x = 4\n",
    "print(1 < x < 5) #True"
   ]
  },
  {
   "cell_type": "code",
   "execution_count": null,
   "metadata": {},
   "outputs": [],
   "source": [
    "# 문제2\n",
    "# 아래 코드의 결과를 예상하라\n",
    "print((3 == 3) and (4 != 3)) # True and True = True"
   ]
  },
  {
   "cell_type": "code",
   "execution_count": 19,
   "metadata": {},
   "outputs": [
    {
     "ename": "SyntaxError",
     "evalue": "expression cannot contain assignment, perhaps you meant \"==\"? (323485859.py, line 3)",
     "output_type": "error",
     "traceback": [
      "\u001b[1;36m  Cell \u001b[1;32mIn[19], line 3\u001b[1;36m\u001b[0m\n\u001b[1;33m    print(3= > 4)  # print(3 >= 4)   False\u001b[0m\n\u001b[1;37m          ^\u001b[0m\n\u001b[1;31mSyntaxError\u001b[0m\u001b[1;31m:\u001b[0m expression cannot contain assignment, perhaps you meant \"==\"?\n"
     ]
    }
   ],
   "source": [
    "# 문제3\n",
    "# 아래 코드에서 에러가 발생하는 원인에 대해 설명\n",
    "print(3> = 4)  # print(3 >= 4)   False"
   ]
  },
  {
   "cell_type": "code",
   "execution_count": 21,
   "metadata": {},
   "outputs": [
    {
     "name": "stdout",
     "output_type": "stream",
     "text": [
      "1\n",
      "2\n",
      "4\n"
     ]
    }
   ],
   "source": [
    "# 문제4\n",
    "# 아래 코드의 결과를 예상하라\n",
    "if True:\n",
    "    print(\"1\")\n",
    "    print(\"2\")\n",
    "else:\n",
    "    print(\"3\")\n",
    "print(\"4\")"
   ]
  },
  {
   "cell_type": "code",
   "execution_count": 22,
   "metadata": {},
   "outputs": [
    {
     "name": "stdout",
     "output_type": "stream",
     "text": [
      "1\n",
      "2\n"
     ]
    }
   ],
   "source": [
    "if True:\n",
    "    print(\"1\")\n",
    "    print(\"2\")\n",
    "else:\n",
    "    print(\"3\")\n",
    "    print(\"4\")"
   ]
  },
  {
   "cell_type": "code",
   "execution_count": 28,
   "metadata": {},
   "outputs": [
    {
     "name": "stdout",
     "output_type": "stream",
     "text": [
      "True\n",
      "False\n",
      "True\n",
      "True\n"
     ]
    }
   ],
   "source": [
    "print(1 in [1, 2, 3])\n",
    "print(1 not in [1, 2, 3])\n",
    "print('a' in ['a', 'b', 'c'])\n",
    "print('j' not in 'python')"
   ]
  },
  {
   "cell_type": "code",
   "execution_count": 29,
   "metadata": {},
   "outputs": [
    {
     "name": "stdout",
     "output_type": "stream",
     "text": [
      "택시를 타고 가라\n"
     ]
    }
   ],
   "source": [
    "# 만약 주머니에 돈이 있으면 택시를 타고 가고, 없으면 걸어가라.\n",
    "pocket = ['paper', 'cellphone', 'money']\n",
    "if 'money' in pocket:\n",
    "    print(\"택시를 타고 가라\")\n",
    "else:\n",
    "    print(\"걸어가라\")"
   ]
  },
  {
   "cell_type": "code",
   "execution_count": 31,
   "metadata": {},
   "outputs": [],
   "source": [
    "# 주머니에 돈이 있으면 가만히 있고, 주머니에 돈이 없으면 카드를 꺼내라.\n",
    "pocket = ['paper', 'money', 'cellphone']\n",
    "if 'money' in pocket:\n",
    "    pass \n",
    "else:\n",
    "    print(\"카드를 꺼내라\")"
   ]
  },
  {
   "cell_type": "code",
   "execution_count": 32,
   "metadata": {},
   "outputs": [],
   "source": [
    "# 주머니에 돈이 있으면 가만히 있고, 주머니에 돈이 없으면 카드를 꺼내라.\n",
    "pocket = ['paper', 'money', 'cellphone']\n",
    "if 'money' in pocket:\n",
    "    pass \n",
    "else:\n",
    "    print(\"카드를 꺼내라\")\n",
    "\n",
    "if 'money' not in pocket:\n",
    "    print(\"카드를 꺼내라\")"
   ]
  },
  {
   "cell_type": "code",
   "execution_count": 39,
   "metadata": {},
   "outputs": [
    {
     "name": "stdout",
     "output_type": "stream",
     "text": [
      "택시를 타고가라\n",
      "택시를 타고가라\n",
      "택시를 타고가라\n"
     ]
    }
   ],
   "source": [
    "# 다양한 조건을 판단하는 elif\n",
    "# 주머니에 돈이 있으면 택시를 타고 가고,\n",
    "# 주머니에 돈은 없지만 카드가 있으면 택시를 타고 가고,\n",
    "# 돈도 없고 카드도 없으면 걸어가라.\n",
    "\n",
    "pocket = ['paper', 'cellphone']\n",
    "card = True\n",
    "if 'money' in pocket:\n",
    "    print(\"택시를 타고가라\")\n",
    "else:\n",
    "    if card:\n",
    "        print(\"택시를 타고가라\")\n",
    "    else:\n",
    "        print(\"걸어가라\")\n",
    "\n",
    "samsung_pay1 = True\n",
    "if 'money' in pocket:\n",
    "    print(\"택시를 타고가라\")\n",
    "elif card:\n",
    "    print(\"택시를 타고가라\")\n",
    "elif samsung_pay1:\n",
    "    print(\"택시를 타고가라\")\n",
    "else:\n",
    "    print(\"걸어가라\")\n",
    "\n",
    "\n",
    "if ('money' in pocket) or card or samsung_pay1:\n",
    "    print(\"택시를 타고가라\")\n",
    "else:\n",
    "    print(\"걸어가라\")"
   ]
  },
  {
   "cell_type": "code",
   "execution_count": 40,
   "metadata": {},
   "outputs": [],
   "source": [
    "# if 문을 한 줄로 작성하기\n",
    "pocket = ['paper', 'money', 'cellphone']\n",
    "if 'money' in pocket: pass\n",
    "else: print(\"카드를 꺼내라\")"
   ]
  },
  {
   "cell_type": "code",
   "execution_count": 42,
   "metadata": {},
   "outputs": [
    {
     "name": "stdout",
     "output_type": "stream",
     "text": [
      "택시를 타고가라\n"
     ]
    }
   ],
   "source": [
    "pocket = ['paper', 'cellphone']\n",
    "if ('money' in pocket) or card or samsung_pay1: print(\"택시를 타고가라\")\n",
    "else: print(\"걸어가라\")"
   ]
  },
  {
   "cell_type": "code",
   "execution_count": 47,
   "metadata": {},
   "outputs": [],
   "source": [
    "# 조건부 표현식\n",
    "# 변수 = 조건문이_참인_경우의_값 if 조건문 else 조건문이_거짓인_경우의_값\n",
    "score = 70\n",
    "message = \"success\" if score >= 60 else \"failure\""
   ]
  },
  {
   "cell_type": "code",
   "execution_count": 50,
   "metadata": {},
   "outputs": [
    {
     "name": "stdout",
     "output_type": "stream",
     "text": [
      "<class 'str'>\n",
      "입력값 12\n"
     ]
    }
   ],
   "source": [
    "# input 함수\n",
    "user_input = input(\"입력값을 작성하세요: \")\n",
    "print(type(user_input))\n",
    "print(\"입력값\", user_input)"
   ]
  },
  {
   "cell_type": "code",
   "execution_count": 53,
   "metadata": {},
   "outputs": [
    {
     "data": {
      "text/plain": [
       "'안녕하세요안녕하세요'"
      ]
     },
     "execution_count": 53,
     "metadata": {},
     "output_type": "execute_result"
    }
   ],
   "source": [
    "# 문제5\n",
    "# 사용자로부터 입력받은 문자열을 2번 출력하는 코드를 작성하시오.\n",
    "# ex) 안녕하세요 -> 안녕하세요안녕하세요\n",
    "a = '안녕하세요'\n",
    "b = a * 2\n",
    "b"
   ]
  },
  {
   "cell_type": "code",
   "execution_count": 54,
   "metadata": {},
   "outputs": [
    {
     "name": "stdout",
     "output_type": "stream",
     "text": [
      "안녕하세요안녕하세요\n"
     ]
    }
   ],
   "source": [
    "user_input = input()\n",
    "print(user_input * 2)"
   ]
  },
  {
   "cell_type": "code",
   "execution_count": 137,
   "metadata": {},
   "outputs": [
    {
     "name": "stdout",
     "output_type": "stream",
     "text": [
      "1\n",
      "11\n"
     ]
    }
   ],
   "source": [
    "#문제6\n",
    "#사용자로부터 하나의 숫자를 입력받고, 입력 받은 숫자에 10을 더해 출력하라\n",
    "user_input = input()\n",
    "print(user_input)\n",
    "a = int(user_input) + 10\n",
    "print(a)\n"
   ]
  },
  {
   "cell_type": "code",
   "execution_count": 233,
   "metadata": {},
   "outputs": [
    {
     "name": "stdout",
     "output_type": "stream",
     "text": [
      "홀수\n"
     ]
    }
   ],
   "source": [
    "#문제7\n",
    "#사용자로부터 하나의 숫자를 입력 받고 짝수이면 \"짝수\" 출력, 홀수이면 \"홀수\" 출력\n",
    "a = input()\n",
    "b = int(a)\n",
    "c = b % 2\n",
    "if c == 0:\n",
    "    print(\"짝수\")\n",
    "else:\n",
    "    print(\"홀수\")"
   ]
  },
  {
   "cell_type": "code",
   "execution_count": 151,
   "metadata": {},
   "outputs": [
    {
     "name": "stdout",
     "output_type": "stream",
     "text": [
      "260\n",
      "255\n"
     ]
    }
   ],
   "source": [
    "#문제8\n",
    "#사용자로부터 숫자 값을 입력받은 후 값에 20을 더한 값을 출력하라\n",
    "#단, 사용자가 입력한 값과 20을 더한 계산 값이 255를 초과하는 경우 255를 출력\n",
    "a = input()\n",
    "b = int(a) + 20\n",
    "if b > 255:\n",
    "    print(255)\n",
    "else:\n",
    "    print(b)"
   ]
  },
  {
   "cell_type": "code",
   "execution_count": 153,
   "metadata": {},
   "outputs": [
    {
     "name": "stdout",
     "output_type": "stream",
     "text": [
      "-10\n",
      "0\n"
     ]
    }
   ],
   "source": [
    "#문제9\n",
    "#사용자로부터 숫자 값을 입력받은 후 값에 20을 뺀 값을 출력하라\n",
    "#단, 출력 값의 범위는 0~255이다. 예를 들어 결과값이 0보다 작은 값이 되는 경우 0을 출력하고\n",
    "#255보다 큰 값이 되는 경우 255를 출력하라\n",
    "a = input()\n",
    "b = int(a) - 20\n",
    "if b < 0:\n",
    "    print(0)\n",
    "elif b > 255:\n",
    "    print(255)\n",
    "else:\n",
    "    print(b)\n",
    "    "
   ]
  },
  {
   "cell_type": "code",
   "execution_count": 227,
   "metadata": {},
   "outputs": [
    {
     "name": "stdout",
     "output_type": "stream",
     "text": [
      "13:00\n",
      "정각입니다.\n"
     ]
    }
   ],
   "source": [
    "#문제10\n",
    "#사용자로부터 입력 받은 시간이 정각인지 판별하라\n",
    "#ex) 출력예시: 입력 -> 02:00    출력 -> 정각입니다.\n",
    "#입력 -> 03:10    출력 -> 정각이 아닙니다.\n",
    "a = input()\n",
    "print(a)\n",
    "if (a[3:] == '00'):\n",
    "   print(\"정각입니다.\")\n",
    "else:\n",
    "   print(\"정각이 아닙니다.\")"
   ]
  },
  {
   "cell_type": "code",
   "execution_count": null,
   "metadata": {},
   "outputs": [],
   "source": []
  }
 ],
 "metadata": {
  "kernelspec": {
   "display_name": "base",
   "language": "python",
   "name": "python3"
  },
  "language_info": {
   "codemirror_mode": {
    "name": "ipython",
    "version": 3
   },
   "file_extension": ".py",
   "mimetype": "text/x-python",
   "name": "python",
   "nbconvert_exporter": "python",
   "pygments_lexer": "ipython3",
   "version": "3.11.7"
  }
 },
 "nbformat": 4,
 "nbformat_minor": 2
}
