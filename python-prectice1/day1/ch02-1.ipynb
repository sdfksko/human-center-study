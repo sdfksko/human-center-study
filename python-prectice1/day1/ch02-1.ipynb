{
 "cells": [
  {
   "cell_type": "code",
   "execution_count": 3,
   "metadata": {},
   "outputs": [
    {
     "name": "stdout",
     "output_type": "stream",
     "text": [
      "1.6666666666666667\n"
     ]
    }
   ],
   "source": [
    "# 한쪽\n",
    "# print(3 % 7)\n",
    "# print(7 // 4)\n",
    "# print(7 / 4)\n",
    "\n",
    "# a = 1\n",
    "# a += 1 # a = a + 1과 같음\n",
    "# print(a)\n",
    "# a = 1\n",
    "# a -= 1\n",
    "# print(a)\n",
    "# a = 4짜리 단축키 -> 블럭을 지정하고 ctrl + /\n",
    "# print(\"Hello world\")\n",
    "\n",
    "# a=1\n",
    "# b=4\n",
    "# print(a+b)\n",
    "\n",
    "# a = \"Python\"\n",
    "# print(a)\n",
    "\n",
    "# def add(a, b):\n",
    "#         return a+b\n",
    "\n",
    "# print(add(3,4))\n",
    "# print(\"Hellow world\")\n",
    "\n",
    "# a = 0o7\n",
    "# print(a)\n",
    "# a = 0x8ff\n",
    "# a = 0xAbc\n",
    "# print(a)\n",
    "# print(b)\n",
    "\n",
    "# a = 3\n",
    "# b = 4\n",
    "# print(a + b)\n",
    "# print(a - b)\n",
    "# print(a * b)\n",
    "# print(a / b)\n",
    "# print(a ** b)\n",
    "# print(7 % 3)\n",
    "# a //= 1\n",
    "# print(a)\n",
    "# a = 11\n",
    "# a **= 2\n",
    "# print(a)\n",
    "# a = 8\n",
    "# a %= 4\n",
    "# print(a)\n",
    "a = 5 \n",
    "a /= 3\n",
    "print(a)"
   ]
  }
 ],
 "metadata": {
  "kernelspec": {
   "display_name": "base",
   "language": "python",
   "name": "python3"
  },
  "language_info": {
   "codemirror_mode": {
    "name": "ipython",
    "version": 3
   },
   "file_extension": ".py",
   "mimetype": "text/x-python",
   "name": "python",
   "nbconvert_exporter": "python",
   "pygments_lexer": "ipython3",
   "version": "3.11.7"
  }
 },
 "nbformat": 4,
 "nbformat_minor": 2
}
