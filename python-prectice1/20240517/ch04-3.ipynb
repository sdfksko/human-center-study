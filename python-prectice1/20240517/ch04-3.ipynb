{
 "cells": [
  {
   "cell_type": "code",
   "execution_count": 2,
   "metadata": {},
   "outputs": [],
   "source": [
    "# 파이썬에서 파일 처리하기\n",
    "\n",
    "# 엑셀파일, 워드파일 - > 외부 module(바이너리(binary) 파일)\n",
    "# csv, txt 등등의 파일 -> 기본 module(일반 텍스트 파일)\n",
    "# csv파일 형태 -> a,b,c,d,e\n",
    "#               1,2,3,4,5\n",
    "#               2,3,4,5,6\n",
    "#               3,4,5,6,7\n",
    "\n",
    "# 파이썬으로 파일 생성하기\n",
    "# 파일_객 = open(파일_이름, 파일_열기_모드)\n",
    "f = open(\"새파일1.txt\", 'w')\n",
    "f.close()"
   ]
  },
  {
   "cell_type": "code",
   "execution_count": 8,
   "metadata": {},
   "outputs": [],
   "source": [
    "# 파일열기모드 설명\n",
    "# r 읽기 모드: 파일을 읽기만 할 때 사용한다.\n",
    "# w 쓰기 모드: 파일에 내용을 쓸 때 사용한다.\n",
    "# a 추가 모드: 파일의 마지막에 새로운 내용을 추가할 때 사용한다.\n",
    "\n",
    "f1 = open(\"C:/doit/새파일1.txt\", 'w') # 파일 생성 및 열기(doit폴더 미리 생성되어져 있어야함.)\n",
    "f1.close()                           # 파일 닫음\n",
    "f2 = open(\"C:\\\\doit\\\\새파일2.txt\", 'w') # 파일 생성 및 열기(doit폴더 미리 생성되어져 있어야함.)\n",
    "f2.close()                           # 파일 닫음\n",
    "f3 = open(r\"C:\\doit\\새파일3.txt\", 'w') # 파일 생성 및 열기(doit폴더 미리 생성되어져 있어야함.)\n",
    "f3.close()                           # 파일 닫음"
   ]
  },
  {
   "cell_type": "code",
   "execution_count": 16,
   "metadata": {},
   "outputs": [],
   "source": [
    "# 파일을 쓰기 모드로 열어 내용 쓰기(overwrite)\n",
    "# write_dat.py\n",
    "f = open(\"새파일.txt\", 'w')\n",
    "for i in range(1, 11):      # 1 ~ 10\n",
    "    data = \"%d번째 줄입니다. \\n\" % i\n",
    "    f.write(data)       # 파일에 data변수 값을 쓰기한다.\n",
    "f.close()\n"
   ]
  },
  {
   "cell_type": "code",
   "execution_count": 2,
   "metadata": {},
   "outputs": [
    {
     "name": "stdout",
     "output_type": "stream",
     "text": [
      "1번째 줄입니다. \n",
      "\n",
      "1번째 줄입니다. \n",
      "2번째 줄입니다. \n",
      "3번째 줄입니다. \n",
      "4번째 줄입니다. \n",
      "5번째 줄입니다. \n",
      "6번째 줄입니다. \n",
      "7번째 줄입니다. \n",
      "8번째 줄입니다. \n",
      "9번째 줄입니다. \n",
      "10번째 줄입니다. \n",
      "11번째 줄입니다. \n",
      "11번째 줄입니다. \n",
      "12번째 줄입니다. \n",
      "13번째 줄입니다. \n",
      "14번째 줄입니다. \n",
      "15번째 줄입니다. \n",
      "16번째 줄입니다. \n",
      "17번째 줄입니다. \n",
      "18번째 줄입니다. \n",
      "19번째 줄입니다. \n"
     ]
    }
   ],
   "source": [
    "# 파일을 읽는 여러 가지 방법\n",
    "\n",
    "# (1) readline 함수 이용하기\n",
    "f = open(\"새파일.txt\", 'r')\n",
    "line = f.readline()     # 텍스트 파일에 현재 위치의 한 줄 읽기\n",
    "print(line)\n",
    "f.close()\n",
    "\n",
    "f = open(\"새파일.txt\", 'r')\n",
    "while True:\n",
    "    line = f.readline()\n",
    "    if not line: break\n",
    "    print(line, end = \"\")\n",
    "f.close()"
   ]
  },
  {
   "cell_type": "code",
   "execution_count": 29,
   "metadata": {},
   "outputs": [
    {
     "name": "stdout",
     "output_type": "stream",
     "text": [
      "1번째 줄입니다. \n",
      "2번째 줄입니다. \n",
      "3번째 줄입니다. \n",
      "4번째 줄입니다. \n",
      "5번째 줄입니다. \n",
      "6번째 줄입니다. \n",
      "7번째 줄입니다. \n",
      "8번째 줄입니다. \n",
      "9번째 줄입니다. \n",
      "10번째 줄입니다. \n"
     ]
    }
   ],
   "source": [
    "# (2) readlines 함수 이용하기\n",
    "f = open(\"새파일.txt\", 'r')\n",
    "lines = f.readlines()       # 파일의 모든 라인을 읽는다.(리턴값은 리스트_)\n",
    "for line in lines:\n",
    "    line = line.strip() # 줄 끝의 줄 바꿈 문자(\\n)를 제거한다.\n",
    "    print(line)\n",
    "f.close()"
   ]
  },
  {
   "cell_type": "code",
   "execution_count": 31,
   "metadata": {},
   "outputs": [
    {
     "name": "stdout",
     "output_type": "stream",
     "text": [
      "1번째 줄입니다. \n",
      "2번째 줄입니다. \n",
      "3번째 줄입니다. \n",
      "4번째 줄입니다. \n",
      "5번째 줄입니다. \n",
      "6번째 줄입니다. \n",
      "7번째 줄입니다. \n",
      "8번째 줄입니다. \n",
      "9번째 줄입니다. \n",
      "10번째 줄입니다. \n",
      "\n"
     ]
    }
   ],
   "source": [
    "# (3) read 함수 이용하기\n",
    "f = open(\"새파일.txt\", 'r')\n",
    "data = f.read()\n",
    "print(data)\n",
    "f.close()"
   ]
  },
  {
   "cell_type": "code",
   "execution_count": 32,
   "metadata": {},
   "outputs": [
    {
     "name": "stdout",
     "output_type": "stream",
     "text": [
      "1번째 줄입니다. \n",
      "\n",
      "2번째 줄입니다. \n",
      "\n",
      "3번째 줄입니다. \n",
      "\n",
      "4번째 줄입니다. \n",
      "\n",
      "5번째 줄입니다. \n",
      "\n",
      "6번째 줄입니다. \n",
      "\n",
      "7번째 줄입니다. \n",
      "\n",
      "8번째 줄입니다. \n",
      "\n",
      "9번째 줄입니다. \n",
      "\n",
      "10번째 줄입니다. \n",
      "\n"
     ]
    }
   ],
   "source": [
    "# (4) 파일 객체를 for 문과 함께 사용하기\n",
    "f = open(\"새파일.txt\", 'r')\n",
    "for line in f:\n",
    "    print(line)\n",
    "f.close()"
   ]
  },
  {
   "cell_type": "code",
   "execution_count": 35,
   "metadata": {},
   "outputs": [],
   "source": [
    "# 파일에 새로운 내용 추가하기\n",
    "f = open(\"새파일.txt\", 'a')\n",
    "for i in range(11, 20):\n",
    "    data = \"%d번째 줄입니다. \\n\" % i\n",
    "    f.write(data)\n",
    "f.close()"
   ]
  },
  {
   "cell_type": "code",
   "execution_count": 36,
   "metadata": {},
   "outputs": [
    {
     "name": "stdout",
     "output_type": "stream",
     "text": [
      "adfdas\n"
     ]
    }
   ],
   "source": [
    "# with 문과 함께 사용하기\n",
    "with open(\"foo.txt\", \"w\") as f:\n",
    "    f.write(\"Life ist too short, you need python\")\n",
    "    print('adfdas')"
   ]
  },
  {
   "cell_type": "code",
   "execution_count": null,
   "metadata": {},
   "outputs": [],
   "source": []
  }
 ],
 "metadata": {
  "kernelspec": {
   "display_name": "base",
   "language": "python",
   "name": "python3"
  },
  "language_info": {
   "codemirror_mode": {
    "name": "ipython",
    "version": 3
   },
   "file_extension": ".py",
   "mimetype": "text/x-python",
   "name": "python",
   "nbconvert_exporter": "python",
   "pygments_lexer": "ipython3",
   "version": "3.11.7"
  }
 },
 "nbformat": 4,
 "nbformat_minor": 2
}
